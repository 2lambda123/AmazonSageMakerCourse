{
 "cells": [
  {
   "cell_type": "markdown",
   "metadata": {},
   "source": [
    "## Invoke SageMaker Enpoint from outside of AWS environment using SageMaker SDK\n",
    "\n",
    "Model used: XGBoost Bike Rental Prediction Trained in the XGBoost Lectures  \n",
    "  \n",
    "This example uses the IAM user: ml_user_predict. The user was setup in the housekeeping lecture of the course.  \n",
    "\n",
    "Refer to the lecture: Configure IAM Users, Setup Command Line Interface (CLI)\n",
    "\n",
    "Ensure xgboost-biketrain-v1 Endpoint is deployed before running this example  \n",
    "  \n",
    "To create an endpoint using SageMaker Console:  \n",
    "1. Select \"Models\" under \"Inference\" in navigation pane\n",
    "2. Search for model using this prefix: xgboost-biketrain-v1\n",
    "3. Select the latest model and choose create endpoint\n",
    "4. Specify endpoint name as: xgboost-biketrain-v1\n",
    "5. Create a new endpoint configuration\n",
    "6. Create a new endpoint"
   ]
  },
  {
   "cell_type": "code",
   "execution_count": 1,
   "metadata": {},
   "outputs": [
    {
     "name": "stdout",
     "output_type": "stream",
     "text": [
      "Collecting sagemaker\n",
      "  Downloading https://files.pythonhosted.org/packages/a2/39/5ecc243103709993e5c12182c625af0a8acfb4a543b3a235667ef4eb97e0/sagemaker-2.16.3.post0.tar.gz (309kB)\n",
      "Requirement already satisfied, skipping upgrade: boto3>=1.14.12 in c:\\users\\ouraccount\\anaconda3\\lib\\site-packages (from sagemaker) (1.14.12)\n",
      "Collecting google-pasta (from sagemaker)\n",
      "  Downloading https://files.pythonhosted.org/packages/a3/de/c648ef6835192e6e2cc03f40b19eeda4382c49b5bafb43d88b931c4c74ac/google_pasta-0.2.0-py3-none-any.whl (57kB)\n",
      "Requirement already satisfied, skipping upgrade: numpy>=1.9.0 in c:\\users\\ouraccount\\anaconda3\\lib\\site-packages (from sagemaker) (1.16.5)\n",
      "Requirement already satisfied, skipping upgrade: protobuf>=3.1 in c:\\users\\ouraccount\\anaconda3\\lib\\site-packages (from sagemaker) (3.13.0)\n",
      "Requirement already satisfied, skipping upgrade: protobuf3-to-dict>=0.1.5 in c:\\users\\ouraccount\\anaconda3\\lib\\site-packages (from sagemaker) (0.1.5)\n",
      "Collecting smdebug-rulesconfig==0.1.5 (from sagemaker)\n",
      "  Downloading https://files.pythonhosted.org/packages/3e/d9/10f5d4e1992575b704a9a0d0af1e962e31c6409ab414f686fdc2e2d42787/smdebug_rulesconfig-0.1.5-py2.py3-none-any.whl\n",
      "Requirement already satisfied, skipping upgrade: importlib-metadata>=1.4.0 in c:\\users\\ouraccount\\anaconda3\\lib\\site-packages (from sagemaker) (2.0.0)\n",
      "Requirement already satisfied, skipping upgrade: packaging>=20.0 in c:\\users\\ouraccount\\anaconda3\\lib\\site-packages (from sagemaker) (20.4)\n",
      "Requirement already satisfied, skipping upgrade: s3transfer<0.4.0,>=0.3.0 in c:\\users\\ouraccount\\anaconda3\\lib\\site-packages (from boto3>=1.14.12->sagemaker) (0.3.3)\n",
      "Requirement already satisfied, skipping upgrade: jmespath<1.0.0,>=0.7.1 in c:\\users\\ouraccount\\anaconda3\\lib\\site-packages (from boto3>=1.14.12->sagemaker) (0.10.0)\n",
      "Requirement already satisfied, skipping upgrade: botocore<1.18.0,>=1.17.12 in c:\\users\\ouraccount\\anaconda3\\lib\\site-packages (from boto3>=1.14.12->sagemaker) (1.17.12)\n",
      "Requirement already satisfied, skipping upgrade: six in c:\\users\\ouraccount\\anaconda3\\lib\\site-packages (from google-pasta->sagemaker) (1.12.0)\n",
      "Requirement already satisfied, skipping upgrade: setuptools in c:\\users\\ouraccount\\anaconda3\\lib\\site-packages (from protobuf>=3.1->sagemaker) (41.4.0)\n",
      "Requirement already satisfied, skipping upgrade: zipp>=0.5 in c:\\users\\ouraccount\\anaconda3\\lib\\site-packages (from importlib-metadata>=1.4.0->sagemaker) (0.6.0)\n",
      "Requirement already satisfied, skipping upgrade: pyparsing>=2.0.2 in c:\\users\\ouraccount\\anaconda3\\lib\\site-packages (from packaging>=20.0->sagemaker) (2.4.2)\n",
      "Requirement already satisfied, skipping upgrade: python-dateutil<3.0.0,>=2.1 in c:\\users\\ouraccount\\anaconda3\\lib\\site-packages (from botocore<1.18.0,>=1.17.12->boto3>=1.14.12->sagemaker) (2.8.0)\n",
      "Requirement already satisfied, skipping upgrade: docutils<0.16,>=0.10 in c:\\users\\ouraccount\\anaconda3\\lib\\site-packages (from botocore<1.18.0,>=1.17.12->boto3>=1.14.12->sagemaker) (0.15.2)\n",
      "Requirement already satisfied, skipping upgrade: urllib3<1.26,>=1.20 in c:\\users\\ouraccount\\anaconda3\\lib\\site-packages (from botocore<1.18.0,>=1.17.12->boto3>=1.14.12->sagemaker) (1.24.2)\n",
      "Requirement already satisfied, skipping upgrade: more-itertools in c:\\users\\ouraccount\\anaconda3\\lib\\site-packages (from zipp>=0.5->importlib-metadata>=1.4.0->sagemaker) (7.2.0)\n",
      "Building wheels for collected packages: sagemaker\n",
      "  Building wheel for sagemaker (setup.py): started\n",
      "  Building wheel for sagemaker (setup.py): finished with status 'done'\n",
      "  Created wheel for sagemaker: filename=sagemaker-2.16.3.post0-py2.py3-none-any.whl size=435632 sha256=b20b83741722ddbe2f60c0c7bbbe3628ee22a018e1fc42dc65f7414f74e70d78\n",
      "  Stored in directory: C:\\Users\\ouraccount\\AppData\\Local\\pip\\Cache\\wheels\\69\\e7\\c0\\e2be7e2bcfa81f7c2c192fc3d6cd32070ef02e38ac77e3056a\n",
      "Successfully built sagemaker\n",
      "Installing collected packages: google-pasta, smdebug-rulesconfig, sagemaker\n",
      "  Found existing installation: smdebug-rulesconfig 0.1.4\n",
      "    Uninstalling smdebug-rulesconfig-0.1.4:\n",
      "      Successfully uninstalled smdebug-rulesconfig-0.1.4\n",
      "  Found existing installation: sagemaker 1.72.1\n",
      "    Uninstalling sagemaker-1.72.1:\n",
      "      Successfully uninstalled sagemaker-1.72.1\n",
      "Successfully installed google-pasta-0.2.0 sagemaker-2.16.3.post0 smdebug-rulesconfig-0.1.5\n"
     ]
    }
   ],
   "source": [
    "# Install SageMaker 2.x version.\n",
    "!pip install --upgrade sagemaker"
   ]
  },
  {
   "cell_type": "code",
   "execution_count": 4,
   "metadata": {},
   "outputs": [],
   "source": [
    "import boto3\n",
    "import sagemaker\n",
    "import math\n",
    "import dateutil\n",
    "\n",
    "# SDK 2 serializers and deserializers\n",
    "from sagemaker.serializers import CSVSerializer\n",
    "from sagemaker.deserializers import JSONDeserializer"
   ]
  },
  {
   "cell_type": "code",
   "execution_count": 5,
   "metadata": {},
   "outputs": [],
   "source": [
    "# Establish a session with AWS\n",
    "# Specify credentials and region to be used for this session.\n",
    "# We will use a ml_user_predict credentials that has limited privileges\n",
    "boto_session = boto3.Session(profile_name='ml_user_predict',region_name='us-east-1')"
   ]
  },
  {
   "cell_type": "code",
   "execution_count": 6,
   "metadata": {},
   "outputs": [],
   "source": [
    "sess = sagemaker.Session(boto_session=boto_session)"
   ]
  },
  {
   "cell_type": "code",
   "execution_count": 7,
   "metadata": {},
   "outputs": [],
   "source": [
    "# Create a predictor and point to an existing endpoint\n",
    "\n",
    "# Get Predictor using SageMaker SDK\n",
    "# Specify Your Endpoint Name\n",
    "endpoint_name = 'xgboost-biketrain-v1'\n",
    "\n",
    "predictor = sagemaker.predictor.Predictor(endpoint_name=endpoint_name,\n",
    "                                                 sagemaker_session=sess)"
   ]
  },
  {
   "cell_type": "code",
   "execution_count": 8,
   "metadata": {},
   "outputs": [],
   "source": [
    "# We are sending data for inference in CSV format\n",
    "predictor.serializer = CSVSerializer()"
   ]
  },
  {
   "cell_type": "code",
   "execution_count": 9,
   "metadata": {},
   "outputs": [],
   "source": [
    "#datetime,season,holiday,workingday,weather,temp,atemp,humidity,windspeed\n",
    "# Actual=562\n",
    "sample_one = '2012-12-19 17:00:00,4,0,1,1,16.4,20.455,50,26.0027'\n",
    "# Actual=569\n",
    "sample_two = '2012-12-19 18:00:00,4,0,1,1,15.58,19.695,50,23.9994'\n",
    "# Actual=4\n",
    "sample_three = '2012-12-10 01:00:00,4,0,1,2,14.76,18.94,100,0'"
   ]
  },
  {
   "cell_type": "code",
   "execution_count": 11,
   "metadata": {},
   "outputs": [],
   "source": [
    "# Raw Data Structure: \n",
    "# datetime,season,holiday,workingday,weather,temp,atemp,humidity,windspeed,casual,registered,count\n",
    "\n",
    "# Model expects data in this format (it was trained with these features):\n",
    "# season,holiday,workingday,weather,temp,atemp,humidity,windspeed,year,month,day,dayofweek,hour\n",
    "\n",
    "def transform_data(data):\n",
    "    features = data.split(',')\n",
    "    \n",
    "    # Extract year, month, day, dayofweek, hour\n",
    "    dt = dateutil.parser.parse(features[0])\n",
    "\n",
    "    features.append(str(dt.year))\n",
    "    features.append(str(dt.month))\n",
    "    features.append(str(dt.day))\n",
    "    features.append(str(dt.weekday()))\n",
    "    features.append(str(dt.hour))\n",
    "    \n",
    "    # Return the transformed data. skip datetime field\n",
    "    return ','.join(features[1:])"
   ]
  },
  {
   "cell_type": "code",
   "execution_count": 12,
   "metadata": {},
   "outputs": [
    {
     "name": "stdout",
     "output_type": "stream",
     "text": [
      "Raw Data:\n",
      " 2012-12-19 17:00:00,4,0,1,1,16.4,20.455,50,26.0027\n",
      "Transformed Data:\n",
      " 4,0,1,1,16.4,20.455,50,26.0027,2012,12,19,2,17\n"
     ]
    }
   ],
   "source": [
    "print('Raw Data:\\n',sample_one)\n",
    "print('Transformed Data:\\n',transform_data(sample_one))"
   ]
  },
  {
   "cell_type": "code",
   "execution_count": 17,
   "metadata": {},
   "outputs": [
    {
     "data": {
      "text/plain": [
       "b'6.349300861358643'"
      ]
     },
     "execution_count": 17,
     "metadata": {},
     "output_type": "execute_result"
    }
   ],
   "source": [
    "# Let's invoke prediction now\n",
    "predictor.predict(transform_data(sample_one))"
   ]
  },
  {
   "cell_type": "code",
   "execution_count": 18,
   "metadata": {},
   "outputs": [
    {
     "name": "stdout",
     "output_type": "stream",
     "text": [
      "Predicted Count 571.092597122044\n"
     ]
    }
   ],
   "source": [
    "# Actual Count is 562...but predicted is 6.3.\n",
    "\n",
    "# Model was trained with log1p(count)\n",
    "# So, we need to apply inverse transformation to get the actual count\n",
    "# Predicted Count looks much better now\n",
    "result = predictor.predict(transform_data(sample_one))\n",
    "result = result.decode(\"utf-8\")\n",
    "print ('Predicted Count', math.expm1(float(result)))"
   ]
  },
  {
   "cell_type": "code",
   "execution_count": 24,
   "metadata": {},
   "outputs": [],
   "source": [
    "# how to send multiple samples\n",
    "result = predictor.predict([transform_data(sample_one), transform_data(sample_two)])"
   ]
  },
  {
   "cell_type": "code",
   "execution_count": 25,
   "metadata": {},
   "outputs": [
    {
     "data": {
      "text/plain": [
       "'6.349300861358643,6.321451187133789'"
      ]
     },
     "execution_count": 25,
     "metadata": {},
     "output_type": "execute_result"
    }
   ],
   "source": [
    "result.decode(\"utf-8\")"
   ]
  },
  {
   "cell_type": "code",
   "execution_count": 26,
   "metadata": {},
   "outputs": [],
   "source": [
    "# Batch Prediction\n",
    "# Transform data and invoke prediction in specified batch sizes\n",
    "def run_predictions(data, batch_size):\n",
    "    predictions = []\n",
    "    \n",
    "    transformed_data = [transform_data(row.strip()) for row in data]\n",
    "    \n",
    "    for i in range(0, len(data), batch_size):\n",
    "        \n",
    "        print(i,i+batch_size)\n",
    "        \n",
    "        result = predictor.predict(transformed_data[i : i + batch_size])\n",
    "        \n",
    "        result = result.decode(\"utf-8\")\n",
    "        result = result.split(',')\n",
    "        \n",
    "        predictions += [math.expm1(float(r)) for r in result]\n",
    "                \n",
    "    return predictions"
   ]
  },
  {
   "cell_type": "code",
   "execution_count": 27,
   "metadata": {},
   "outputs": [
    {
     "name": "stdout",
     "output_type": "stream",
     "text": [
      "0 10\n"
     ]
    },
    {
     "data": {
      "text/plain": [
       "[571.092597122044, 555.3798181158465, 10.489585991183136]"
      ]
     },
     "execution_count": 27,
     "metadata": {},
     "output_type": "execute_result"
    }
   ],
   "source": [
    "run_predictions([sample_one,sample_two,sample_three],10)"
   ]
  },
  {
   "cell_type": "code",
   "execution_count": 28,
   "metadata": {},
   "outputs": [],
   "source": [
    "# Run a batch prediction on Test.CSV File\n",
    "# Read the file content\n",
    "data = []\n",
    "with open('test.csv','r') as f:\n",
    "    # skip header\n",
    "    f.readline()\n",
    "    # Read remaining lines\n",
    "    data = f.readlines()"
   ]
  },
  {
   "cell_type": "code",
   "execution_count": 29,
   "metadata": {},
   "outputs": [
    {
     "data": {
      "text/plain": [
       "6493"
      ]
     },
     "execution_count": 29,
     "metadata": {},
     "output_type": "execute_result"
    }
   ],
   "source": [
    "len(data)"
   ]
  },
  {
   "cell_type": "code",
   "execution_count": 30,
   "metadata": {},
   "outputs": [
    {
     "name": "stdout",
     "output_type": "stream",
     "text": [
      "0 500\n",
      "500 1000\n",
      "1000 1500\n",
      "1500 2000\n",
      "2000 2500\n",
      "2500 3000\n",
      "3000 3500\n",
      "3500 4000\n",
      "4000 4500\n",
      "4500 5000\n",
      "5000 5500\n",
      "5500 6000\n",
      "6000 6500\n",
      "Wall time: 1.21 s\n"
     ]
    }
   ],
   "source": [
    "%%time\n",
    "predictions = run_predictions(data,500)"
   ]
  },
  {
   "cell_type": "code",
   "execution_count": 31,
   "metadata": {},
   "outputs": [
    {
     "data": {
      "text/plain": [
       "(6493, 6493)"
      ]
     },
     "execution_count": 31,
     "metadata": {},
     "output_type": "execute_result"
    }
   ],
   "source": [
    "len(predictions),len(data)"
   ]
  },
  {
   "cell_type": "code",
   "execution_count": null,
   "metadata": {},
   "outputs": [],
   "source": []
  }
 ],
 "metadata": {
  "kernelspec": {
   "display_name": "Python 3",
   "language": "python",
   "name": "python3"
  },
  "language_info": {
   "codemirror_mode": {
    "name": "ipython",
    "version": 3
   },
   "file_extension": ".py",
   "mimetype": "text/x-python",
   "name": "python",
   "nbconvert_exporter": "python",
   "pygments_lexer": "ipython3",
   "version": "3.7.4"
  }
 },
 "nbformat": 4,
 "nbformat_minor": 2
}
